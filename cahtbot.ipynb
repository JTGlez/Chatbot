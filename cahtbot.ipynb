{
 "cells": [
  {
   "cell_type": "markdown",
   "metadata": {},
   "source": [
    "# Instalación de dependencias"
   ]
  },
  {
   "cell_type": "markdown",
   "metadata": {},
   "source": [
    "# Bibliotecas iniciales"
   ]
  },
  {
   "cell_type": "code",
   "execution_count": 189,
   "metadata": {},
   "outputs": [],
   "source": [
    "import random # Selección de respuesta aleatoria.\n",
    "import json # Corpus.\n",
    "import pickle # Serialización.\n",
    "import numpy as np\n",
    "\n",
    "import nltk # Natural Language Toolkit.\n",
    "from nltk.stem import WordNetLemmatizer # Lematización.\n",
    "\n",
    "\n",
    "from tensorflow.keras.models import load_model"
   ]
  },
  {
   "cell_type": "code",
   "execution_count": 190,
   "metadata": {},
   "outputs": [],
   "source": [
    "# Importación de modelo de chatbot y los archivos generados en el proceso de entrenamiento.\n",
    "lemmatizer = WordNetLemmatizer()\n",
    "intents = json.loads(open('intents.json').read())\n",
    "\n",
    "words = pickle.load(open('words.pkl', 'rb'))\n",
    "classes = pickle.load(open('classes.pkl', 'rb'))\n",
    "model = load_model('chatbot_tienda.h5')"
   ]
  },
  {
   "cell_type": "code",
   "execution_count": 191,
   "metadata": {},
   "outputs": [],
   "source": [
    "# Limpiador de las entradas: elimina los signos de puntuación, los espacios en blanco, etc.\n",
    "def clean_up_sentence(sentence):\n",
    "    sentence_words = nltk.word_tokenize(sentence)\n",
    "    sentence_words = [lemmatizer.lemmatize(word.lower()) for word in sentence_words]\n",
    "    return sentence_words"
   ]
  },
  {
   "cell_type": "code",
   "execution_count": 192,
   "metadata": {},
   "outputs": [],
   "source": [
    "# Genera el arreglo de 0s que contiene un 1 si la palabra está en el corpus.\n",
    "def bag_of_words(sentence):\n",
    "    sentence_words = clean_up_sentence(sentence)\n",
    "    bag = [0] * len(words)\n",
    "    for w in sentence_words:\n",
    "        for i, word in enumerate(words):\n",
    "            if word == w:\n",
    "                bag[i] = 1\n",
    "    return np.array(bag)"
   ]
  },
  {
   "cell_type": "code",
   "execution_count": 193,
   "metadata": {},
   "outputs": [],
   "source": [
    "# Función que genera una predicción con la red neuronal, y la clasifica en una clase de respuesta.\n",
    "def predict_class(sentence):\n",
    "    # Arreglo bag of words.\n",
    "    bow = bag_of_words(sentence)\n",
    "    \n",
    "    for i in range(len(bow)):\n",
    "        # Si todos los valores en el arreglos son 0, entonces no se encontró ninguna palabra.\n",
    "        # Si un valor es 1, entonces se encontró coincidencia en el corpus y se clasifica.\n",
    "        if bow[i] != 0:\n",
    "            # Predicción.\n",
    "            res = model.predict(np.array([bow]))[0]\n",
    "            ERROR_THRESHOLD = 0.25\n",
    "            # Selección de la respuesta.\n",
    "            results = [[i,r] for i, r in enumerate(res) if r > ERROR_THRESHOLD]\n",
    "\n",
    "            # Búsqueda de la clase con mayor probabilidad.\n",
    "            results.sort(key=lambda x:x[1], reverse=True)\n",
    "            return_list = []\n",
    "            for r in results:\n",
    "                return_list.append({'intent':classes[r[0]], 'probability': str(r[1])})\n",
    "            #print(\"Mensaje \",type(return_list))    \n",
    "            return return_list\n",
    "    return None\n"
   ]
  },
  {
   "cell_type": "code",
   "execution_count": 194,
   "metadata": {},
   "outputs": [],
   "source": [
    "# Función que genera una respuesta a partir de una entrada procesada con predict_class.\n",
    "def get_response(intents_list, intents_json):\n",
    "    tag = intents_list[0]['intent']\n",
    "    list_of_intents = intents_json['intents']\n",
    "    # Verifica el tag que se asignó a la entrada y busca un respuesta aleatoria de esa categoría. \n",
    "    for i in list_of_intents:\n",
    "        if i['tag'] == tag:\n",
    "            result = random.choice(i['responses'])\n",
    "            #print(i['tag'])\n",
    "            break\n",
    "\n",
    "    return result, tag"
   ]
  },
  {
   "cell_type": "code",
   "execution_count": 196,
   "metadata": {},
   "outputs": [
    {
     "name": "stdout",
     "output_type": "stream",
     "text": [
      "¡Bot en línea!\n",
      "Disculpa, no entiendo tu mensaje. :(\n",
      "Disculpa, no entiendo tu mensaje. :(\n",
      "Disculpa, no entiendo tu mensaje. :(\n",
      "Disculpa, no entiendo tu mensaje. :(\n",
      "Bienvenido. Necesitas ayuda?\n",
      "Escribe algo!\n",
      "Bienvenido. Necesitas ayuda?\n"
     ]
    }
   ],
   "source": [
    "# Ciclo while del chatbot. Termina cuando se obtiene una respuesta de la clase 'goodbye'.\n",
    "print(\"¡Bot en línea!\")\n",
    "\n",
    "while True:\n",
    "    message = input()\n",
    "    if message != \"\":\n",
    "        ints = predict_class(message)\n",
    "        if ints is not None:\n",
    "            res, tag = get_response(ints, intents)\n",
    "\n",
    "            print(res)\n",
    "            if tag == \"goodbye\":\n",
    "                break\n",
    "        else:\n",
    "            print(\"Disculpa, no entiendo tu mensaje. :(\")\n",
    "    else:\n",
    "        print(\"Escribe algo!\")"
   ]
  }
 ],
 "metadata": {
  "interpreter": {
   "hash": "369f2c481f4da34e4445cda3fffd2e751bd1c4d706f27375911949ba6bb62e1c"
  },
  "kernelspec": {
   "display_name": "Python 3.10.2 64-bit",
   "language": "python",
   "name": "python3"
  },
  "language_info": {
   "codemirror_mode": {
    "name": "ipython",
    "version": 3
   },
   "file_extension": ".py",
   "mimetype": "text/x-python",
   "name": "python",
   "nbconvert_exporter": "python",
   "pygments_lexer": "ipython3",
   "version": "3.10.2"
  },
  "orig_nbformat": 4
 },
 "nbformat": 4,
 "nbformat_minor": 2
}
