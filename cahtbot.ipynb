{
 "cells": [
  {
   "cell_type": "markdown",
   "metadata": {},
   "source": [
    "# Instalación de dependencias"
   ]
  },
  {
   "cell_type": "markdown",
   "metadata": {},
   "source": [
    "# Bibliotecas iniciales"
   ]
  },
  {
   "cell_type": "code",
   "execution_count": 1,
   "metadata": {},
   "outputs": [],
   "source": [
    "import random # Selección de respuesta aleatoria.\n",
    "import json # Corpus.\n",
    "import pickle # Serialización.\n",
    "import numpy as np\n",
    "\n",
    "import nltk # Natural Language Toolkit.\n",
    "from nltk.stem import WordNetLemmatizer # Lematización.\n",
    "\n",
    "\n",
    "from tensorflow.keras.models import load_model"
   ]
  },
  {
   "cell_type": "code",
   "execution_count": 2,
   "metadata": {},
   "outputs": [],
   "source": [
    "# Importación de modelo de chatbot y los archivos generados en el proceso de entrenamiento.\n",
    "lemmatizer = WordNetLemmatizer()\n",
    "intents = json.loads(open('intents.json').read())\n",
    "\n",
    "words = pickle.load(open('words.pkl', 'rb'))\n",
    "classes = pickle.load(open('classes.pkl', 'rb'))\n",
    "model = load_model('chatbot_tienda.h5')"
   ]
  },
  {
   "cell_type": "code",
   "execution_count": 3,
   "metadata": {},
   "outputs": [],
   "source": [
    "# Limpiador de las entradas: elimina los signos de puntuación, los espacios en blanco, etc.\n",
    "def clean_up_sentence(sentence):\n",
    "    sentence_words = nltk.word_tokenize(sentence)\n",
    "    sentence_words = [lemmatizer.lemmatize(word.lower()) for word in sentence_words]\n",
    "    return sentence_words"
   ]
  },
  {
   "cell_type": "code",
   "execution_count": 4,
   "metadata": {},
   "outputs": [],
   "source": [
    "# Genera el arreglo de 0s que contiene un 1 si la palabra está en el corpus.\n",
    "def bag_of_words(sentence):\n",
    "    sentence_words = clean_up_sentence(sentence)\n",
    "    bag = [0] * len(words)\n",
    "    for w in sentence_words:\n",
    "        for i, word in enumerate(words):\n",
    "            if word == w:\n",
    "                bag[i] = 1\n",
    "    return np.array(bag)"
   ]
  },
  {
   "cell_type": "code",
   "execution_count": 5,
   "metadata": {},
   "outputs": [],
   "source": [
    "# Función que genera una predicción con la red neuronal, y la clasifica en una clase de respuesta.\n",
    "def predict_class(sentence):\n",
    "    # Arreglo bag of words.\n",
    "    bow = bag_of_words(sentence)\n",
    "    \n",
    "    for i in range(len(bow)):\n",
    "        # Si todos los valores en el arreglos son 0, entonces no se encontró ninguna palabra.\n",
    "        # Si un valor es 1, entonces se encontró coincidencia en el corpus y se clasifica. perro\n",
    "        if bow[i] != 0:\n",
    "            # Predicción.\n",
    "            res = model.predict(np.array([bow]))[0]\n",
    "            ERROR_THRESHOLD = 0.25\n",
    "            # Selección de la respuesta.\n",
    "            results = [[i,r] for i, r in enumerate(res) if r > ERROR_THRESHOLD]\n",
    "\n",
    "            # Búsqueda de la clase con mayor probabilidad.\n",
    "            results.sort(key=lambda x:x[1], reverse=True)\n",
    "            return_list = []\n",
    "            for r in results:\n",
    "                return_list.append({'intent':classes[r[0]], 'probability': str(r[1])})\n",
    "            #print(\"Mensaje \",type(return_list))    \n",
    "            return return_list\n",
    "    return None\n"
   ]
  },
  {
   "cell_type": "code",
   "execution_count": 6,
   "metadata": {},
   "outputs": [],
   "source": [
    "# Función que genera una respuesta a partir de una entrada procesada con predict_class.\n",
    "def get_response(intents_list, intents_json):\n",
    "    tag = intents_list[0]['intent']\n",
    "    list_of_intents = intents_json['intents']\n",
    "    # Verifica el tag que se asignó a la entrada y busca un respuesta aleatoria de esa categoría. \n",
    "    for i in list_of_intents:\n",
    "        if i['tag'] == tag:\n",
    "            result = random.choice(i['responses'])\n",
    "            #print(i['tag'])\n",
    "            break\n",
    "\n",
    "    return result, tag"
   ]
  },
  {
   "cell_type": "code",
   "execution_count": 9,
   "metadata": {},
   "outputs": [
    {
     "name": "stdout",
     "output_type": "stream",
     "text": [
      "¡Bot en línea!\n",
      "Escribiste: Hola\n",
      "Mucho gusto. Que puedo hacer por ti?\n",
      "Escribiste: Donde se ubican?\n",
      "Estamos ubicados en la calle de Las Lomas #7 del Centro Historico, CDMX. C.P: 07261.\n",
      "Disculpa, no entiendo tu mensaje. :(\n",
      "Escribiste: A que hora abren?\n",
      "Nuestros horarios de atencion son de lunes a viernes de 9:00 a.m. a 9:00 p.m.\n",
      "Escribiste: Necesito una tarjeta gráfica para gaming\n",
      "Tanto NVIDIA como AMD ofrecen soluciones para tus horas de diversion. Si buscas lo mejor del mercado, te recomendamos las siguientes tarjetas graficas: NVIDIA GeForce RTX 3060TI y AMD Radeon RX 6700XT. Si nunca quieres quedarte corto de VRAM y tu presupuesto es menor, tenemos la RTX 3060 todoterreno\n",
      "Escribiste: Necesito una CPU de alto rendimiento\n",
      "Ofrecemos soluciones de workstations de consumo con procesadores de gama alta de Intel y AMD como los i9 12900K y los Ryzen 9 5900/5950X. Necesitas aun mas? Tambien ofrecemos a clientes selectos soluciones High-End con las plataformas Intel Xeon y AMD EPYC. Si deseas mas informes te invitamos a contactarnos para verificar disponibilidad!\n",
      "Escribiste: Necesito recomendaciones de RAM\n",
      "La RAM permite cargar con velocidad tus programas. Si eres un gamer, te recomendamos minimo 16GB de RAM, mientras que si eres un usuario casual con 8GB de RAM tendras suficiente. Pero si eres un profesional, de preferencia deberias usar 32GB. Te recomendamos las siguientes marcas: Kingston Fury, TEAM Group, Corsair y XPG\n",
      "Escribiste: Muchas gracias\n",
      "De nada! Hasta luego!\n"
     ]
    }
   ],
   "source": [
    "# Ciclo while del chatbot. Termina cuando se obtiene una respuesta de la clase 'goodbye'.\n",
    "print(\"¡Bot en línea!\")\n",
    "\n",
    "while True:\n",
    "    message = input()\n",
    "    if message != \"\":\n",
    "        ints = predict_class(message)\n",
    "        if ints is not None:\n",
    "            res, tag = get_response(ints, intents)\n",
    "            print(\"Escribiste:\", message)\n",
    "            print(res)\n",
    "            if tag == \"goodbye\":\n",
    "                break\n",
    "        else:\n",
    "            print(\"Disculpa, no entiendo tu mensaje. :(\")\n",
    "    else:\n",
    "        print(\"Escribe algo!\")"
   ]
  }
 ],
 "metadata": {
  "interpreter": {
   "hash": "369f2c481f4da34e4445cda3fffd2e751bd1c4d706f27375911949ba6bb62e1c"
  },
  "kernelspec": {
   "display_name": "Python 3.10.2 64-bit",
   "language": "python",
   "name": "python3"
  },
  "language_info": {
   "codemirror_mode": {
    "name": "ipython",
    "version": 3
   },
   "file_extension": ".py",
   "mimetype": "text/x-python",
   "name": "python",
   "nbconvert_exporter": "python",
   "pygments_lexer": "ipython3",
   "version": "3.10.2"
  },
  "orig_nbformat": 4
 },
 "nbformat": 4,
 "nbformat_minor": 2
}
