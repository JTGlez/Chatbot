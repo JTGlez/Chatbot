{
 "cells": [
  {
   "cell_type": "markdown",
   "metadata": {},
   "source": [
    "# Instalación de dependencias"
   ]
  },
  {
   "cell_type": "markdown",
   "metadata": {},
   "source": [
    "# Bibliotecas iniciales"
   ]
  },
  {
   "cell_type": "code",
   "execution_count": 6,
   "metadata": {},
   "outputs": [],
   "source": [
    "import random # Selección de respuesta aleatoria.\n",
    "import json # Corpus.\n",
    "import pickle # Serialización.\n",
    "import numpy as np\n",
    "\n",
    "import nltk # Natural Language Toolkit.\n",
    "from nltk.stem import WordNetLemmatizer # Lematización.\n",
    "\n",
    "\n",
    "from tensorflow.keras.models import load_model"
   ]
  },
  {
   "cell_type": "code",
   "execution_count": 7,
   "metadata": {},
   "outputs": [],
   "source": [
    "lemmatizer = WordNetLemmatizer()\n",
    "intents = json.loads(open('intents.json').read())\n",
    "\n",
    "words = pickle.load(open('words.pkl', 'rb'))\n",
    "classes = pickle.load(open('classes.pkl', 'rb'))\n",
    "model = load_model('chatbot_tienda.h5')"
   ]
  },
  {
   "cell_type": "code",
   "execution_count": 8,
   "metadata": {},
   "outputs": [],
   "source": [
    "def clean_up_sentence(sentence):\n",
    "    sentence_words = nltk.word_tokenize(sentence)\n",
    "    sentence_words = [lemmatizer.lemmatize(word) for word in sentence_words]\n",
    "    return sentence_words"
   ]
  },
  {
   "cell_type": "code",
   "execution_count": 9,
   "metadata": {},
   "outputs": [],
   "source": [
    "def bag_of_words(sentence):\n",
    "    sentence_words = clean_up_sentence(sentence)\n",
    "    bag = [0] * len(words)\n",
    "    for w in sentence_words:\n",
    "        for i, word in enumerate(words):\n",
    "            if word == w:\n",
    "                bag[i] = 1\n",
    "    return np.array(bag)"
   ]
  },
  {
   "cell_type": "code",
   "execution_count": 10,
   "metadata": {},
   "outputs": [],
   "source": [
    "def predict_class(sentence):\n",
    "    bow = bag_of_words(sentence)\n",
    "    res = model.predict(np.array([bow]))[0]\n",
    "    ERROR_THRESHOLD = 0.25\n",
    "    results = [[i,r] for i, r in enumerate(res) if r > ERROR_THRESHOLD]\n",
    "\n",
    "    results.sort(key=lambda x:x[1], reverse=True)\n",
    "    return_list = []\n",
    "    for r in results:\n",
    "        return_list.append({'intent':classes[r[0]], 'probability': str(r[1])})\n",
    "    return return_list"
   ]
  },
  {
   "cell_type": "code",
   "execution_count": 11,
   "metadata": {},
   "outputs": [],
   "source": [
    "def get_response(intents_list, intents_json):\n",
    "    tag = intents_list[0]['intent']\n",
    "    list_of_intents = intents_json['intents']\n",
    "    for i in list_of_intents:\n",
    "        if i['tag'] == tag:\n",
    "            result = random.choice(i['responses'])\n",
    "            break\n",
    "    return result"
   ]
  },
  {
   "cell_type": "code",
   "execution_count": 16,
   "metadata": {},
   "outputs": [
    {
     "name": "stdout",
     "output_type": "stream",
     "text": [
      "GO! Bot is running!\n",
      "Tanto NVIDIA como AMD ofrecen soluciones para tus horas de diversion. Si buscas lo mejor del mercado, te recomendamos las siguientes tarjetas graficas: NVIDIA GeForce RTX 3060TI y AMD Radeon RX 6700XT. Si nunca quieres quedarte corto de VRAM y tu presupuesto es menor, tenemos la RTX 3060 todoterreno\n",
      "Tanto NVIDIA como AMD ofrecen soluciones para tus horas de diversion. Si buscas lo mejor del mercado, te recomendamos las siguientes tarjetas graficas: NVIDIA GeForce RTX 3060TI y AMD Radeon RX 6700XT. Si nunca quieres quedarte corto de VRAM y tu presupuesto es menor, tenemos la RTX 3060 todoterreno\n",
      "Tanto NVIDIA como AMD ofrecen soluciones para tus horas de diversion. Si buscas lo mejor del mercado, te recomendamos las siguientes tarjetas graficas: NVIDIA GeForce RTX 3060TI y AMD Radeon RX 6700XT. Si nunca quieres quedarte corto de VRAM y tu presupuesto es menor, tenemos la RTX 3060 todoterreno\n",
      "De nada! Hasta luego!\n",
      "De nada! Gracias por visitarnos!\n",
      "Bienvenido. Necesitas ayuda?\n",
      "Tanto NVIDIA como AMD ofrecen soluciones para tus horas de diversion. Si buscas lo mejor del mercado, te recomendamos las siguientes tarjetas graficas: NVIDIA GeForce RTX 3060TI y AMD Radeon RX 6700XT. Si nunca quieres quedarte corto de VRAM y tu presupuesto es menor, tenemos la RTX 3060 todoterreno\n",
      "Tanto NVIDIA como AMD ofrecen soluciones para tus horas de diversion. Si buscas lo mejor del mercado, te recomendamos las siguientes tarjetas graficas: NVIDIA GeForce RTX 3060TI y AMD Radeon RX 6700XT. Si nunca quieres quedarte corto de VRAM y tu presupuesto es menor, tenemos la RTX 3060 todoterreno\n",
      "Tanto NVIDIA como AMD ofrecen soluciones para tus horas de diversion. Si buscas lo mejor del mercado, te recomendamos las siguientes tarjetas graficas: NVIDIA GeForce RTX 3060TI y AMD Radeon RX 6700XT. Si nunca quieres quedarte corto de VRAM y tu presupuesto es menor, tenemos la RTX 3060 todoterreno\n",
      "Tanto NVIDIA como AMD ofrecen soluciones para tus horas de diversion. Si buscas lo mejor del mercado, te recomendamos las siguientes tarjetas graficas: NVIDIA GeForce RTX 3060TI y AMD Radeon RX 6700XT. Si nunca quieres quedarte corto de VRAM y tu presupuesto es menor, tenemos la RTX 3060 todoterreno\n",
      "Tanto NVIDIA como AMD ofrecen soluciones para tus horas de diversion. Si buscas lo mejor del mercado, te recomendamos las siguientes tarjetas graficas: NVIDIA GeForce RTX 3060TI y AMD Radeon RX 6700XT. Si nunca quieres quedarte corto de VRAM y tu presupuesto es menor, tenemos la RTX 3060 todoterreno\n",
      "Tanto NVIDIA como AMD ofrecen soluciones para tus horas de diversion. Si buscas lo mejor del mercado, te recomendamos las siguientes tarjetas graficas: NVIDIA GeForce RTX 3060TI y AMD Radeon RX 6700XT. Si nunca quieres quedarte corto de VRAM y tu presupuesto es menor, tenemos la RTX 3060 todoterreno\n",
      "Tanto NVIDIA como AMD ofrecen soluciones para tus horas de diversion. Si buscas lo mejor del mercado, te recomendamos las siguientes tarjetas graficas: NVIDIA GeForce RTX 3060TI y AMD Radeon RX 6700XT. Si nunca quieres quedarte corto de VRAM y tu presupuesto es menor, tenemos la RTX 3060 todoterreno\n",
      "Tanto NVIDIA como AMD ofrecen soluciones para tus horas de diversion. Si buscas lo mejor del mercado, te recomendamos las siguientes tarjetas graficas: NVIDIA GeForce RTX 3060TI y AMD Radeon RX 6700XT. Si nunca quieres quedarte corto de VRAM y tu presupuesto es menor, tenemos la RTX 3060 todoterreno\n",
      "Tanto NVIDIA como AMD ofrecen soluciones para tus horas de diversion. Si buscas lo mejor del mercado, te recomendamos las siguientes tarjetas graficas: NVIDIA GeForce RTX 3060TI y AMD Radeon RX 6700XT. Si nunca quieres quedarte corto de VRAM y tu presupuesto es menor, tenemos la RTX 3060 todoterreno\n",
      "Tanto NVIDIA como AMD ofrecen soluciones para tus horas de diversion. Si buscas lo mejor del mercado, te recomendamos las siguientes tarjetas graficas: NVIDIA GeForce RTX 3060TI y AMD Radeon RX 6700XT. Si nunca quieres quedarte corto de VRAM y tu presupuesto es menor, tenemos la RTX 3060 todoterreno\n",
      "Tanto NVIDIA como AMD ofrecen soluciones para tus horas de diversion. Si buscas lo mejor del mercado, te recomendamos las siguientes tarjetas graficas: NVIDIA GeForce RTX 3060TI y AMD Radeon RX 6700XT. Si nunca quieres quedarte corto de VRAM y tu presupuesto es menor, tenemos la RTX 3060 todoterreno\n",
      "Tanto NVIDIA como AMD ofrecen soluciones para tus horas de diversion. Si buscas lo mejor del mercado, te recomendamos las siguientes tarjetas graficas: NVIDIA GeForce RTX 3060TI y AMD Radeon RX 6700XT. Si nunca quieres quedarte corto de VRAM y tu presupuesto es menor, tenemos la RTX 3060 todoterreno\n",
      "Tanto NVIDIA como AMD ofrecen soluciones para tus horas de diversion. Si buscas lo mejor del mercado, te recomendamos las siguientes tarjetas graficas: NVIDIA GeForce RTX 3060TI y AMD Radeon RX 6700XT. Si nunca quieres quedarte corto de VRAM y tu presupuesto es menor, tenemos la RTX 3060 todoterreno\n",
      "Tanto NVIDIA como AMD ofrecen soluciones para tus horas de diversion. Si buscas lo mejor del mercado, te recomendamos las siguientes tarjetas graficas: NVIDIA GeForce RTX 3060TI y AMD Radeon RX 6700XT. Si nunca quieres quedarte corto de VRAM y tu presupuesto es menor, tenemos la RTX 3060 todoterreno\n"
     ]
    }
   ],
   "source": [
    "print(\"GO! Bot is running!\")\n",
    "\n",
    "while True:\n",
    "    message = input(\"\")\n",
    "    ints = predict_class(message)\n",
    "    res = get_response(ints, intents)\n",
    "    print(res)"
   ]
  }
 ],
 "metadata": {
  "interpreter": {
   "hash": "369f2c481f4da34e4445cda3fffd2e751bd1c4d706f27375911949ba6bb62e1c"
  },
  "kernelspec": {
   "display_name": "Python 3.10.2 64-bit",
   "language": "python",
   "name": "python3"
  },
  "language_info": {
   "codemirror_mode": {
    "name": "ipython",
    "version": 3
   },
   "file_extension": ".py",
   "mimetype": "text/x-python",
   "name": "python",
   "nbconvert_exporter": "python",
   "pygments_lexer": "ipython3",
   "version": "3.10.2"
  },
  "orig_nbformat": 4
 },
 "nbformat": 4,
 "nbformat_minor": 2
}
