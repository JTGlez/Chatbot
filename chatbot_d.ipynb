{
 "cells": [
  {
   "cell_type": "markdown",
   "metadata": {},
   "source": [
    "# Instalación de dependencias"
   ]
  },
  {
   "cell_type": "markdown",
   "metadata": {},
   "source": [
    "# Bibliotecas iniciales"
   ]
  },
  {
   "cell_type": "code",
   "execution_count": 1,
   "metadata": {},
   "outputs": [],
   "source": [
    "import random # Selección de respuesta aleatoria.\n",
    "import json # Corpus.\n",
    "import pickle # Serialización.\n",
    "import numpy as np\n",
    "import discord  # Discord\n",
    "\n",
    "import nltk # Natural Language Toolkit.\n",
    "from nltk.stem import WordNetLemmatizer # Lematización.\n",
    "\n",
    "\n",
    "from tensorflow.keras.models import load_model"
   ]
  },
  {
   "cell_type": "code",
   "execution_count": 2,
   "metadata": {},
   "outputs": [],
   "source": [
    "# Importación de modelo de chatbot y los archivos generados en el proceso de entrenamiento.\n",
    "lemmatizer = WordNetLemmatizer()\n",
    "intents = json.loads(open('intents.json').read())\n",
    "\n",
    "words = pickle.load(open('words.pkl', 'rb'))\n",
    "classes = pickle.load(open('classes.pkl', 'rb'))\n",
    "model = load_model('chatbot_tienda.h5')"
   ]
  },
  {
   "cell_type": "code",
   "execution_count": 3,
   "metadata": {},
   "outputs": [],
   "source": [
    "# Limpiador de las entradas: elimina los signos de puntuación, los espacios en blanco, etc.\n",
    "def clean_up_sentence(sentence):\n",
    "    sentence_words = nltk.word_tokenize(sentence)\n",
    "    sentence_words = [lemmatizer.lemmatize(word.lower()) for word in sentence_words]\n",
    "    return sentence_words"
   ]
  },
  {
   "cell_type": "code",
   "execution_count": 4,
   "metadata": {},
   "outputs": [],
   "source": [
    "# Genera el arreglo de 0s que contiene un 1 si la palabra está en el corpus.\n",
    "def bag_of_words(sentence):\n",
    "    sentence_words = clean_up_sentence(sentence)\n",
    "    bag = [0] * len(words)\n",
    "    for w in sentence_words:\n",
    "        for i, word in enumerate(words):\n",
    "            if word == w:\n",
    "                bag[i] = 1\n",
    "    return np.array(bag)"
   ]
  },
  {
   "cell_type": "code",
   "execution_count": 5,
   "metadata": {},
   "outputs": [],
   "source": [
    "# Función que genera una predicción con la red neuronal, y la clasifica en una clase de respuesta.\n",
    "def predict_class(sentence):\n",
    "    # Arreglo bag of words.\n",
    "    bow = bag_of_words(sentence)\n",
    "    \n",
    "    for i in range(len(bow)):\n",
    "        # Si todos los valores en el arreglos son 0, entonces no se encontró ninguna palabra.\n",
    "        # Si un valor es 1, entonces se encontró coincidencia en el corpus y se clasifica. perro\n",
    "        if bow[i] != 0:\n",
    "            # Predicción.\n",
    "            res = model.predict(np.array([bow]))[0]\n",
    "            ERROR_THRESHOLD = 0.25\n",
    "            # Selección de la respuesta.\n",
    "            results = [[i,r] for i, r in enumerate(res) if r > ERROR_THRESHOLD]\n",
    "\n",
    "            # Búsqueda de la clase con mayor probabilidad.\n",
    "            results.sort(key=lambda x:x[1], reverse=True)\n",
    "            return_list = []\n",
    "            for r in results:\n",
    "                return_list.append({'intent':classes[r[0]], 'probability': str(r[1])})\n",
    "            #print(\"Mensaje \",type(return_list))    \n",
    "            return return_list\n",
    "    return None\n"
   ]
  },
  {
   "cell_type": "code",
   "execution_count": 6,
   "metadata": {},
   "outputs": [],
   "source": [
    "# Función que genera una respuesta a partir de una entrada procesada con predict_class.\n",
    "def get_response(intents_list, intents_json):\n",
    "    tag = intents_list[0]['intent']\n",
    "    list_of_intents = intents_json['intents']\n",
    "    # Verifica el tag que se asignó a la entrada y busca un respuesta aleatoria de esa categoría. \n",
    "    for i in list_of_intents:\n",
    "        if i['tag'] == tag:\n",
    "            result = random.choice(i['responses'])\n",
    "            #print(i['tag'])\n",
    "            break\n",
    "\n",
    "    return result, tag"
   ]
  },
  {
   "cell_type": "code",
   "execution_count": 7,
   "metadata": {},
   "outputs": [
    {
     "ename": "RuntimeError",
     "evalue": "Cannot close a running event loop",
     "output_type": "error",
     "traceback": [
      "\u001b[1;31m---------------------------------------------------------------------------\u001b[0m",
      "\u001b[1;31mRuntimeError\u001b[0m                              Traceback (most recent call last)",
      "File \u001b[1;32mc:\\Python310\\lib\\site-packages\\discord\\client.py:713\u001b[0m, in \u001b[0;36mClient.run\u001b[1;34m(self, *args, **kwargs)\u001b[0m\n\u001b[0;32m    <a href='file:///c%3A/Python310/lib/site-packages/discord/client.py?line=711'>712</a>\u001b[0m \u001b[39mtry\u001b[39;00m:\n\u001b[1;32m--> <a href='file:///c%3A/Python310/lib/site-packages/discord/client.py?line=712'>713</a>\u001b[0m     loop\u001b[39m.\u001b[39;49mrun_forever()\n\u001b[0;32m    <a href='file:///c%3A/Python310/lib/site-packages/discord/client.py?line=713'>714</a>\u001b[0m \u001b[39mexcept\u001b[39;00m \u001b[39mKeyboardInterrupt\u001b[39;00m:\n",
      "File \u001b[1;32mc:\\Python310\\lib\\asyncio\\base_events.py:585\u001b[0m, in \u001b[0;36mBaseEventLoop.run_forever\u001b[1;34m(self)\u001b[0m\n\u001b[0;32m    <a href='file:///c%3A/Python310/lib/asyncio/base_events.py?line=583'>584</a>\u001b[0m \u001b[39mself\u001b[39m\u001b[39m.\u001b[39m_check_closed()\n\u001b[1;32m--> <a href='file:///c%3A/Python310/lib/asyncio/base_events.py?line=584'>585</a>\u001b[0m \u001b[39mself\u001b[39;49m\u001b[39m.\u001b[39;49m_check_running()\n\u001b[0;32m    <a href='file:///c%3A/Python310/lib/asyncio/base_events.py?line=585'>586</a>\u001b[0m \u001b[39mself\u001b[39m\u001b[39m.\u001b[39m_set_coroutine_origin_tracking(\u001b[39mself\u001b[39m\u001b[39m.\u001b[39m_debug)\n",
      "File \u001b[1;32mc:\\Python310\\lib\\asyncio\\base_events.py:577\u001b[0m, in \u001b[0;36mBaseEventLoop._check_running\u001b[1;34m(self)\u001b[0m\n\u001b[0;32m    <a href='file:///c%3A/Python310/lib/asyncio/base_events.py?line=575'>576</a>\u001b[0m \u001b[39mif\u001b[39;00m \u001b[39mself\u001b[39m\u001b[39m.\u001b[39mis_running():\n\u001b[1;32m--> <a href='file:///c%3A/Python310/lib/asyncio/base_events.py?line=576'>577</a>\u001b[0m     \u001b[39mraise\u001b[39;00m \u001b[39mRuntimeError\u001b[39;00m(\u001b[39m'\u001b[39m\u001b[39mThis event loop is already running\u001b[39m\u001b[39m'\u001b[39m)\n\u001b[0;32m    <a href='file:///c%3A/Python310/lib/asyncio/base_events.py?line=577'>578</a>\u001b[0m \u001b[39mif\u001b[39;00m events\u001b[39m.\u001b[39m_get_running_loop() \u001b[39mis\u001b[39;00m \u001b[39mnot\u001b[39;00m \u001b[39mNone\u001b[39;00m:\n",
      "\u001b[1;31mRuntimeError\u001b[0m: This event loop is already running",
      "\nDuring handling of the above exception, another exception occurred:\n",
      "\u001b[1;31mRuntimeError\u001b[0m                              Traceback (most recent call last)",
      "File \u001b[1;32mc:\\Python310\\lib\\site-packages\\discord\\client.py:90\u001b[0m, in \u001b[0;36m_cleanup_loop\u001b[1;34m(loop)\u001b[0m\n\u001b[0;32m     <a href='file:///c%3A/Python310/lib/site-packages/discord/client.py?line=88'>89</a>\u001b[0m \u001b[39mtry\u001b[39;00m:\n\u001b[1;32m---> <a href='file:///c%3A/Python310/lib/site-packages/discord/client.py?line=89'>90</a>\u001b[0m     _cancel_tasks(loop)\n\u001b[0;32m     <a href='file:///c%3A/Python310/lib/site-packages/discord/client.py?line=90'>91</a>\u001b[0m     \u001b[39mif\u001b[39;00m sys\u001b[39m.\u001b[39mversion_info \u001b[39m>\u001b[39m\u001b[39m=\u001b[39m (\u001b[39m3\u001b[39m, \u001b[39m6\u001b[39m):\n",
      "File \u001b[1;32mc:\\Python310\\lib\\site-packages\\discord\\client.py:75\u001b[0m, in \u001b[0;36m_cancel_tasks\u001b[1;34m(loop)\u001b[0m\n\u001b[0;32m     <a href='file:///c%3A/Python310/lib/site-packages/discord/client.py?line=72'>73</a>\u001b[0m     task\u001b[39m.\u001b[39mcancel()\n\u001b[1;32m---> <a href='file:///c%3A/Python310/lib/site-packages/discord/client.py?line=74'>75</a>\u001b[0m loop\u001b[39m.\u001b[39;49mrun_until_complete(asyncio\u001b[39m.\u001b[39;49mgather(\u001b[39m*\u001b[39;49mtasks, return_exceptions\u001b[39m=\u001b[39;49m\u001b[39mTrue\u001b[39;49;00m))\n\u001b[0;32m     <a href='file:///c%3A/Python310/lib/site-packages/discord/client.py?line=75'>76</a>\u001b[0m log\u001b[39m.\u001b[39minfo(\u001b[39m'\u001b[39m\u001b[39mAll tasks finished cancelling.\u001b[39m\u001b[39m'\u001b[39m)\n",
      "File \u001b[1;32mc:\\Python310\\lib\\asyncio\\base_events.py:617\u001b[0m, in \u001b[0;36mBaseEventLoop.run_until_complete\u001b[1;34m(self, future)\u001b[0m\n\u001b[0;32m    <a href='file:///c%3A/Python310/lib/asyncio/base_events.py?line=615'>616</a>\u001b[0m \u001b[39mself\u001b[39m\u001b[39m.\u001b[39m_check_closed()\n\u001b[1;32m--> <a href='file:///c%3A/Python310/lib/asyncio/base_events.py?line=616'>617</a>\u001b[0m \u001b[39mself\u001b[39;49m\u001b[39m.\u001b[39;49m_check_running()\n\u001b[0;32m    <a href='file:///c%3A/Python310/lib/asyncio/base_events.py?line=618'>619</a>\u001b[0m new_task \u001b[39m=\u001b[39m \u001b[39mnot\u001b[39;00m futures\u001b[39m.\u001b[39misfuture(future)\n",
      "File \u001b[1;32mc:\\Python310\\lib\\asyncio\\base_events.py:577\u001b[0m, in \u001b[0;36mBaseEventLoop._check_running\u001b[1;34m(self)\u001b[0m\n\u001b[0;32m    <a href='file:///c%3A/Python310/lib/asyncio/base_events.py?line=575'>576</a>\u001b[0m \u001b[39mif\u001b[39;00m \u001b[39mself\u001b[39m\u001b[39m.\u001b[39mis_running():\n\u001b[1;32m--> <a href='file:///c%3A/Python310/lib/asyncio/base_events.py?line=576'>577</a>\u001b[0m     \u001b[39mraise\u001b[39;00m \u001b[39mRuntimeError\u001b[39;00m(\u001b[39m'\u001b[39m\u001b[39mThis event loop is already running\u001b[39m\u001b[39m'\u001b[39m)\n\u001b[0;32m    <a href='file:///c%3A/Python310/lib/asyncio/base_events.py?line=577'>578</a>\u001b[0m \u001b[39mif\u001b[39;00m events\u001b[39m.\u001b[39m_get_running_loop() \u001b[39mis\u001b[39;00m \u001b[39mnot\u001b[39;00m \u001b[39mNone\u001b[39;00m:\n",
      "\u001b[1;31mRuntimeError\u001b[0m: This event loop is already running",
      "\nDuring handling of the above exception, another exception occurred:\n",
      "\u001b[1;31mRuntimeError\u001b[0m                              Traceback (most recent call last)",
      "\u001b[1;32mc:\\Users\\Jorge\\Documents\\Python\\IA\\Chatbot\\chatbot_d.ipynb Cell 9'\u001b[0m in \u001b[0;36m<module>\u001b[1;34m\u001b[0m\n\u001b[0;32m     <a href='vscode-notebook-cell:/c%3A/Users/Jorge/Documents/Python/IA/Chatbot/chatbot_d.ipynb#ch0000008?line=18'>19</a>\u001b[0m     \u001b[39melse\u001b[39;00m:\n\u001b[0;32m     <a href='vscode-notebook-cell:/c%3A/Users/Jorge/Documents/Python/IA/Chatbot/chatbot_d.ipynb#ch0000008?line=19'>20</a>\u001b[0m         \u001b[39mawait\u001b[39;00m message\u001b[39m.\u001b[39mchannel\u001b[39m.\u001b[39msend(\u001b[39m\"\u001b[39m\u001b[39mEscribe algo!\u001b[39m\u001b[39m\"\u001b[39m)\n\u001b[1;32m---> <a href='vscode-notebook-cell:/c%3A/Users/Jorge/Documents/Python/IA/Chatbot/chatbot_d.ipynb#ch0000008?line=20'>21</a>\u001b[0m client\u001b[39m.\u001b[39;49mrun(TOKEN)\n",
      "File \u001b[1;32mc:\\Python310\\lib\\site-packages\\discord\\client.py:719\u001b[0m, in \u001b[0;36mClient.run\u001b[1;34m(self, *args, **kwargs)\u001b[0m\n\u001b[0;32m    <a href='file:///c%3A/Python310/lib/site-packages/discord/client.py?line=716'>717</a>\u001b[0m     future\u001b[39m.\u001b[39mremove_done_callback(stop_loop_on_completion)\n\u001b[0;32m    <a href='file:///c%3A/Python310/lib/site-packages/discord/client.py?line=717'>718</a>\u001b[0m     log\u001b[39m.\u001b[39minfo(\u001b[39m'\u001b[39m\u001b[39mCleaning up tasks.\u001b[39m\u001b[39m'\u001b[39m)\n\u001b[1;32m--> <a href='file:///c%3A/Python310/lib/site-packages/discord/client.py?line=718'>719</a>\u001b[0m     _cleanup_loop(loop)\n\u001b[0;32m    <a href='file:///c%3A/Python310/lib/site-packages/discord/client.py?line=720'>721</a>\u001b[0m \u001b[39mif\u001b[39;00m \u001b[39mnot\u001b[39;00m future\u001b[39m.\u001b[39mcancelled():\n\u001b[0;32m    <a href='file:///c%3A/Python310/lib/site-packages/discord/client.py?line=721'>722</a>\u001b[0m     \u001b[39mtry\u001b[39;00m:\n",
      "File \u001b[1;32mc:\\Python310\\lib\\site-packages\\discord\\client.py:95\u001b[0m, in \u001b[0;36m_cleanup_loop\u001b[1;34m(loop)\u001b[0m\n\u001b[0;32m     <a href='file:///c%3A/Python310/lib/site-packages/discord/client.py?line=92'>93</a>\u001b[0m \u001b[39mfinally\u001b[39;00m:\n\u001b[0;32m     <a href='file:///c%3A/Python310/lib/site-packages/discord/client.py?line=93'>94</a>\u001b[0m     log\u001b[39m.\u001b[39minfo(\u001b[39m'\u001b[39m\u001b[39mClosing the event loop.\u001b[39m\u001b[39m'\u001b[39m)\n\u001b[1;32m---> <a href='file:///c%3A/Python310/lib/site-packages/discord/client.py?line=94'>95</a>\u001b[0m     loop\u001b[39m.\u001b[39;49mclose()\n",
      "File \u001b[1;32mc:\\Python310\\lib\\asyncio\\selector_events.py:89\u001b[0m, in \u001b[0;36mBaseSelectorEventLoop.close\u001b[1;34m(self)\u001b[0m\n\u001b[0;32m     <a href='file:///c%3A/Python310/lib/asyncio/selector_events.py?line=86'>87</a>\u001b[0m \u001b[39mdef\u001b[39;00m \u001b[39mclose\u001b[39m(\u001b[39mself\u001b[39m):\n\u001b[0;32m     <a href='file:///c%3A/Python310/lib/asyncio/selector_events.py?line=87'>88</a>\u001b[0m     \u001b[39mif\u001b[39;00m \u001b[39mself\u001b[39m\u001b[39m.\u001b[39mis_running():\n\u001b[1;32m---> <a href='file:///c%3A/Python310/lib/asyncio/selector_events.py?line=88'>89</a>\u001b[0m         \u001b[39mraise\u001b[39;00m \u001b[39mRuntimeError\u001b[39;00m(\u001b[39m\"\u001b[39m\u001b[39mCannot close a running event loop\u001b[39m\u001b[39m\"\u001b[39m)\n\u001b[0;32m     <a href='file:///c%3A/Python310/lib/asyncio/selector_events.py?line=89'>90</a>\u001b[0m     \u001b[39mif\u001b[39;00m \u001b[39mself\u001b[39m\u001b[39m.\u001b[39mis_closed():\n\u001b[0;32m     <a href='file:///c%3A/Python310/lib/asyncio/selector_events.py?line=90'>91</a>\u001b[0m         \u001b[39mreturn\u001b[39;00m\n",
      "\u001b[1;31mRuntimeError\u001b[0m: Cannot close a running event loop"
     ]
    }
   ],
   "source": [
    "# Ciclo while del chatbot. Termina cuando se obtiene una respuesta de la clase 'goodbye'.\n",
    "#print(\"¡Bot en línea!\")\n",
    "\n",
    "#Token del bot\n",
    "TOKEN = \"OTgyODA4OTgxOTUxMDkwNzY4.GDDuYa.v1g72MAW9EEHJsVMQWiIRHNAg7cvyG7k2_Gef4\"\n",
    "client = discord.Client()\n",
    "#message = input()\n",
    "\n",
    "@client.event\n",
    "async def on_message(message):\n",
    "    #if message != \"\":\n",
    "    if message.content.startswith(\"$iabot\"):\n",
    "        ints = predict_class(message.content)\n",
    "        if ints is not None:\n",
    "            res, tag = get_response(ints, intents)\n",
    "            await message.channel.send(res)\n",
    "        else:\n",
    "            await message.channel.send(\"Disculpa, no entiendo tu mensaje. :(\")\n",
    "    else:\n",
    "        await message.channel.send(\"Escribe algo!\")\n",
    "client.run(TOKEN)"
   ]
  }
 ],
 "metadata": {
  "interpreter": {
   "hash": "369f2c481f4da34e4445cda3fffd2e751bd1c4d706f27375911949ba6bb62e1c"
  },
  "kernelspec": {
   "display_name": "Python 3.10.2 64-bit",
   "language": "python",
   "name": "python3"
  },
  "language_info": {
   "codemirror_mode": {
    "name": "ipython",
    "version": 3
   },
   "file_extension": ".py",
   "mimetype": "text/x-python",
   "name": "python",
   "nbconvert_exporter": "python",
   "pygments_lexer": "ipython3",
   "version": "3.10.2"
  },
  "orig_nbformat": 4
 },
 "nbformat": 4,
 "nbformat_minor": 2
}
